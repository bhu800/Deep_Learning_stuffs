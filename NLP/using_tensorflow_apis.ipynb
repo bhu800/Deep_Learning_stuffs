{
  "nbformat": 4,
  "nbformat_minor": 0,
  "metadata": {
    "colab": {
      "name": "using_tensorflow_apis.ipynb",
      "provenance": [],
      "authorship_tag": "ABX9TyOGOW6Emi0xTTFUqrejx+IW",
      "include_colab_link": true
    },
    "kernelspec": {
      "name": "python3",
      "display_name": "Python 3"
    }
  },
  "cells": [
    {
      "cell_type": "markdown",
      "metadata": {
        "id": "view-in-github",
        "colab_type": "text"
      },
      "source": [
        "<a href=\"https://colab.research.google.com/github/bhu800/Deep_Learning_stuffs/blob/master/NLP/using_tensorflow_apis.ipynb\" target=\"_parent\"><img src=\"https://colab.research.google.com/assets/colab-badge.svg\" alt=\"Open In Colab\"/></a>"
      ]
    },
    {
      "cell_type": "code",
      "metadata": {
        "id": "a4y7o8O-UMEN",
        "colab_type": "code",
        "colab": {}
      },
      "source": [
        "from tensorflow.keras.preprocessing.text import Tokenizer"
      ],
      "execution_count": 1,
      "outputs": []
    },
    {
      "cell_type": "code",
      "metadata": {
        "id": "YgiHtM7PUsQd",
        "colab_type": "code",
        "colab": {
          "base_uri": "https://localhost:8080/",
          "height": 35
        },
        "outputId": "751a95d1-b22f-45c6-ea35-6a463d448891"
      },
      "source": [
        "sentences = [\n",
        "        'i love poetries',\n",
        "        'I, love novels',\n",
        "        'You love me!'\n",
        "]\n",
        "\n",
        "tokenizer = Tokenizer(num_words=100) # num_words - hyperparameter during training\n",
        "tokenizer.fit_on_texts(sentences)\n",
        "word_index = tokenizer.word_index\n",
        "print(word_index)"
      ],
      "execution_count": 2,
      "outputs": [
        {
          "output_type": "stream",
          "text": [
            "{'love': 1, 'i': 2, 'poetries': 3, 'novels': 4, 'you': 5, 'me': 6}\n"
          ],
          "name": "stdout"
        }
      ]
    },
    {
      "cell_type": "code",
      "metadata": {
        "id": "b25JHaumV7Vm",
        "colab_type": "code",
        "colab": {}
      },
      "source": [
        ""
      ],
      "execution_count": null,
      "outputs": []
    }
  ]
}